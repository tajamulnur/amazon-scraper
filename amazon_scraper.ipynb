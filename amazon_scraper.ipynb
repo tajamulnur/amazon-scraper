{
 "cells": [
  {
   "cell_type": "code",
   "execution_count": null,
   "id": "2fa0cc1b",
   "metadata": {},
   "outputs": [],
   "source": [
    "from selenium import webdriver\n",
    "from selenium.webdriver.common.by import By\n",
    "import pandas as pd\n",
    "driver=webdriver.Chrome()\n",
    "driver.get(\"https://www.amazon.in/s?rh=n%3A976419031%2Cp_n_is_private_label%3A16184648031&dc&qid=1759560547&rnid=16184647031&ref=sr_nr_p_n_is_private_label_0\")\n",
    "product=driver.find_elements(By.CSS_SELECTOR,\"div.a-section.a-spacing-small.puis-padding-left-small.puis-padding-right-small\")\n",
    "data=[]\n",
    "\n",
    "\n",
    "\n",
    "\n",
    "for x in product:\n",
    "    try:\n",
    "        title = x.find_element(By.CSS_SELECTOR, \"a > h2 > span\").text\n",
    "    except:\n",
    "        title = \"No title\"\n",
    "\n",
    "    try:\n",
    "        price = x.find_element(By.CSS_SELECTOR, \"span.a-price\").text\n",
    "    except:\n",
    "        price = \"No price\"\n",
    "\n",
    "    try:\n",
    "        rating = x.find_element(By.CSS_SELECTOR, \"span.a-icon-alt\").get_attribute(\"textContent\")\n",
    "    except:\n",
    "        rating = \"No rating\"\n",
    "\n",
    "    print(title, price, rating)\n",
    "    data.append([title, price, rating])\n",
    "df = pd.DataFrame(data, columns=[\"Title\", \"Price\", \"Rating\"])    \n",
    "\n",
    "df.to_excel(\"amazon.xlsx\", engine=\"openpyxl\", index=False)"
   ]
  }
 ],
 "metadata": {
  "kernelspec": {
   "display_name": "Python 3",
   "language": "python",
   "name": "python3"
  },
  "language_info": {
   "name": "python",
   "version": "3.13.7"
  }
 },
 "nbformat": 4,
 "nbformat_minor": 5
}
